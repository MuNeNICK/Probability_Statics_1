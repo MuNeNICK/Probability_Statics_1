{
 "cells": [
  {
   "cell_type": "code",
   "execution_count": 1,
   "metadata": {},
   "outputs": [
    {
     "data": {
      "text/plain": [
       "array([5, 6, 1, 4, 4, 4, 2, 4, 6, 3, 5, 1, 1, 5, 3, 2, 1, 2, 6, 2, 6, 1,\n",
       "       2, 5, 4, 1, 4, 6, 1, 3, 4, 1, 2, 4, 6, 4, 4, 1, 2, 2, 2, 1, 3, 5,\n",
       "       4, 4, 3, 5, 3, 1, 1, 5, 6, 6, 1, 5, 2, 5, 2, 3, 3, 1, 2, 2, 2, 2,\n",
       "       4, 4, 3, 4, 1, 4, 6, 5, 2, 3, 5, 4, 5, 5, 5, 4, 5, 5, 5, 1, 5, 4,\n",
       "       3, 6, 6, 6, 1, 2, 6, 2, 4, 1, 6, 1, 2, 3, 5, 3, 1, 6, 4, 3, 3, 6,\n",
       "       1, 6, 2, 1, 3, 3, 4, 3, 4, 3, 2, 3, 4, 4, 4, 3, 4, 5, 2, 3, 4, 2,\n",
       "       3, 2, 5, 3, 4, 1, 4, 3, 4, 1, 1, 1, 4, 3, 4, 1, 5, 1, 6, 1, 6, 3,\n",
       "       4, 3, 4, 6, 1, 1, 1, 4, 1, 3, 3, 1, 5, 4, 5, 6, 1, 5, 4, 6, 4, 5,\n",
       "       6, 2, 6, 4, 1, 1, 1, 6, 6, 2, 1, 5, 2, 6, 6, 4, 2, 1, 1, 5, 4, 4,\n",
       "       2, 6, 6, 1, 1, 2, 3, 1, 4, 6, 2, 2, 5, 1, 6, 1, 4, 3, 4, 3, 5, 4,\n",
       "       6, 6, 4, 1, 4, 1, 5, 3, 4, 6, 6, 5, 1, 3, 4, 4, 2, 6, 4, 5, 6, 6,\n",
       "       4, 4, 2, 2, 2, 4, 3, 3, 5, 4, 2, 3, 4, 6, 6, 6, 2, 5, 3, 3, 1, 2,\n",
       "       6, 1, 5, 1, 4, 3, 6, 6, 1, 1, 6, 2, 2, 1, 4, 1, 4, 1, 5, 5, 1, 2,\n",
       "       4, 5, 4, 3, 6, 2, 2, 3, 2, 6, 5, 6, 3, 6, 6, 5, 5, 6, 6, 3, 4, 6,\n",
       "       4, 2, 3, 5, 4, 4, 2, 2, 6, 6, 2, 2, 3, 1, 4, 2, 5, 4, 2, 2, 3, 1,\n",
       "       1, 3, 5, 1, 5, 4, 4, 1, 1, 4, 6, 4, 1, 4, 1, 6, 3, 2, 1, 5, 1, 4,\n",
       "       5, 5, 2, 1, 3, 5, 5, 3, 5, 4, 3, 4, 1, 6, 6, 6, 1, 1, 6, 4, 5, 5,\n",
       "       6, 3, 3, 5, 2, 4, 4, 4, 2, 3, 6, 3, 4, 6, 3, 4, 5, 5, 3, 6, 2, 3,\n",
       "       6, 1, 4, 1, 3, 5, 4, 3, 2, 3, 2, 5, 6, 2, 1, 6, 1, 1, 1, 1, 2, 1,\n",
       "       4, 2, 5, 2, 3, 5, 1, 1, 3, 6, 1, 5, 5, 5, 2, 2, 5, 2, 6, 2, 4, 6,\n",
       "       2, 4, 6, 4, 2, 2, 2, 1, 4, 1, 5, 2, 5, 6, 1, 4, 3, 2, 5, 5, 5, 1,\n",
       "       1, 3, 6, 1, 4, 4, 5, 2, 5, 4, 4, 4, 5, 3, 2, 3, 3, 2, 4, 4, 5, 5,\n",
       "       3, 2, 2, 1, 1, 3, 5, 4, 6, 4, 3, 2, 1, 5, 2, 5, 5, 3, 1, 1, 6, 4,\n",
       "       2, 6, 6, 2, 6, 1, 5, 4, 6, 4, 5, 4, 5, 4, 1, 6, 4, 4, 2, 4, 6, 6,\n",
       "       5, 1, 4, 1, 1, 4, 2, 3, 4, 3, 4, 1, 4, 3, 1, 4, 2, 5, 4, 2, 3, 6,\n",
       "       2, 5, 2, 6, 4, 2, 4, 3, 5, 6, 2, 5, 2, 5, 2, 3, 6, 6, 3, 4, 2, 3,\n",
       "       3, 5, 3, 3, 4, 1, 6, 5, 3, 1, 1, 3, 4, 6, 6, 6, 2, 6, 4, 3, 5, 2,\n",
       "       2, 3, 3, 5, 6, 4, 5, 6, 3, 5, 6, 3, 2, 5, 1, 2, 1, 3, 1, 4, 6, 3,\n",
       "       1, 3, 4, 1, 1, 2, 1, 6, 1, 3, 4, 5, 6, 4, 4, 1, 5, 5, 4, 3, 5, 5,\n",
       "       6, 4, 6, 6, 2, 5, 6, 6, 4, 2, 4, 6, 4, 3, 1, 2, 6, 6, 6, 1, 2, 6,\n",
       "       2, 6, 5, 3, 3, 4, 1, 6, 6, 4, 3, 4, 3, 3, 2, 4, 2, 4, 6, 3, 6, 3,\n",
       "       5, 2, 6, 1, 4, 6, 1, 5, 3, 2, 1, 2, 3, 2, 2, 6, 4, 1, 5, 2, 2, 6,\n",
       "       5, 1, 3, 4, 5, 2, 3, 4, 5, 2, 1, 5, 2, 3, 5, 4, 1, 5, 6, 5, 6, 1,\n",
       "       6, 3, 4, 2, 3, 2, 6, 4, 3, 5, 3, 2, 5, 1, 3, 3, 5, 3, 5, 1, 3, 2,\n",
       "       3, 5, 5, 2, 2, 5, 6, 5, 3, 5, 2, 3, 5, 1, 2, 6, 1, 3, 2, 3, 4, 2,\n",
       "       3, 1, 3, 5, 5, 1, 3, 2, 1, 3, 4, 5, 1, 3, 4, 5, 4, 6, 1, 3, 4, 4,\n",
       "       4, 2, 4, 3, 3, 3, 5, 4, 1, 5, 6, 2, 3, 2, 5, 2, 5, 6, 2, 3, 6, 4,\n",
       "       3, 6, 3, 3, 4, 3, 5, 6, 2, 4, 1, 6, 5, 6, 4, 2, 4, 5, 5, 6, 1, 3,\n",
       "       2, 6, 5, 5, 2, 6, 5, 1, 1, 3, 6, 6, 6, 4, 2, 1, 1, 1, 1, 3, 5, 6,\n",
       "       1, 6, 3, 4, 6, 5, 4, 5, 6, 5, 5, 3, 2, 4, 5, 5, 1, 6, 1, 3, 5, 4,\n",
       "       6, 4, 1, 1, 2, 5, 5, 6, 1, 1, 1, 2, 6, 2, 2, 5, 2, 5, 1, 5, 4, 6,\n",
       "       3, 1, 4, 3, 4, 3, 3, 2, 4, 6, 4, 1, 6, 5, 6, 6, 6, 4, 4, 1, 1, 2,\n",
       "       6, 5, 5, 2, 6, 6, 6, 1, 1, 1, 4, 5, 5, 3, 3, 4, 4, 5, 6, 3, 6, 2,\n",
       "       1, 5, 2, 4, 1, 4, 3, 6, 2, 6, 1, 1, 4, 6, 5, 2, 1, 1, 6, 3, 2, 2,\n",
       "       1, 6, 2, 2, 1, 1, 4, 6, 4, 6, 4, 4, 2, 3, 1, 1, 5, 3, 6, 3, 1, 3,\n",
       "       6, 5, 2, 6, 4, 5, 6, 6, 4, 1])"
      ]
     },
     "execution_count": 1,
     "metadata": {},
     "output_type": "execute_result"
    }
   ],
   "source": [
    "import numpy as np\n",
    "#ランダムシード固定\n",
    "np.random.seed(0)\n",
    "#サイコロの値をリストに格納\n",
    "dice_data = np.array([1,2,3,4,5,6])\n",
    "#サイコロを振る回数\n",
    "steps = 1000\n",
    "#1-6の中から1000回ランダムに抽出\n",
    "dice_result = np.random.choice(dice_data, steps)\n",
    "dice_result"
   ]
  },
  {
   "cell_type": "code",
   "execution_count": 2,
   "metadata": {},
   "outputs": [
    {
     "data": {
      "text/plain": [
       "array([1, 1, 1, 1, 1, 1, 1, 1, 1, 1, 1, 1, 1, 1, 1, 1, 1, 1, 1, 1, 1, 1,\n",
       "       1, 1, 1, 1, 1, 1, 1, 1, 1, 1, 1, 1, 1, 1, 1, 1, 1, 1, 1, 1, 1, 1,\n",
       "       1, 1, 1, 1, 1, 1, 1, 1, 1, 1, 1, 1, 1, 1, 1, 1, 1, 1, 1, 1, 1, 1,\n",
       "       1, 1, 1, 1, 1, 1, 1, 1, 1, 1, 1, 1, 1, 1, 1, 1, 1, 1, 1, 1, 1, 1,\n",
       "       1, 1, 1, 1, 1, 1, 1, 1, 1, 1, 1, 1, 1, 1, 1, 1, 1, 1, 1, 1, 1, 1,\n",
       "       1, 1, 1, 1, 1, 1, 1, 1, 1, 1, 1, 1, 1, 1, 1, 1, 1, 1, 1, 1, 1, 1,\n",
       "       1, 1, 1, 1, 1, 1, 1, 1, 1, 1, 1, 1, 1, 1, 1, 1, 1, 1, 1, 1, 1, 1,\n",
       "       1, 1, 1, 1, 1, 1, 1, 1, 1, 1, 1, 1, 1, 1, 1, 1, 1])"
      ]
     },
     "execution_count": 2,
     "metadata": {},
     "output_type": "execute_result"
    }
   ],
   "source": [
    "#1000回の結果から，1のみを抽出\n",
    "dice_result[dice_result==1]"
   ]
  },
  {
   "cell_type": "code",
   "execution_count": 3,
   "metadata": {},
   "outputs": [
    {
     "data": {
      "text/plain": [
       "171"
      ]
     },
     "execution_count": 3,
     "metadata": {},
     "output_type": "execute_result"
    }
   ],
   "source": [
    "#1のみの回数\n",
    "len(dice_result[dice_result==1])"
   ]
  },
  {
   "cell_type": "code",
   "execution_count": 4,
   "metadata": {},
   "outputs": [
    {
     "name": "stdout",
     "output_type": "stream",
     "text": [
      "1が出る確率： 0.171\n"
     ]
    }
   ],
   "source": [
    "#確率を求める\n",
    "p1 = len(dice_result[dice_result==1]) / steps\n",
    "print('1が出る確率：', p1)\n",
    "#２〜６についてもp2〜p6として，同様に求めてみましょう"
   ]
  },
  {
   "cell_type": "code",
   "execution_count": 5,
   "metadata": {},
   "outputs": [
    {
     "name": "stdout",
     "output_type": "stream",
     "text": [
      "1 が出る確率： 0.171\n",
      "2 が出る確率： 0.157\n",
      "3 が出る確率： 0.157\n",
      "4 が出る確率： 0.183\n",
      "5 が出る確率： 0.161\n",
      "6 が出る確率： 0.171\n"
     ]
    }
   ],
   "source": [
    "#繰り返しを用いる方法\n",
    "for i in range(1,7):\n",
    "  p = len(dice_result[dice_result==i]) / steps\n",
    "  print(i,'が出る確率：', p)"
   ]
  },
  {
   "cell_type": "code",
   "execution_count": 6,
   "metadata": {},
   "outputs": [
    {
     "data": {
      "image/png": "[encoded data removed]",
      "text/plain": [
       "<Figure size 432x288 with 1 Axes>"
      ]
     },
     "metadata": {
      "needs_background": "light"
     },
     "output_type": "display_data"
    }
   ],
   "source": [
    "import matplotlib.pyplot as plt\n",
    "\n",
    "pr_data = np.array([]);\n",
    "for i in range(1, 7):\n",
    "    p = len(dice_result[dice_result == i]) / steps\n",
    "    pr_data = np.append(pr_data, p)\n",
    "\n",
    "plt.bar(dice_data, pr_data)\n",
    "plt.grid(True)"
   ]
  },
  {
   "cell_type": "code",
   "execution_count": 7,
   "metadata": {},
   "outputs": [
    {
     "data": {
      "text/plain": [
       "[<matplotlib.lines.Line2D at 0x7f5dc0be9210>]"
      ]
     },
     "execution_count": 7,
     "metadata": {},
     "output_type": "execute_result"
    },
    {
     "data": {
      "image/png": "[encoded data removed]",
      "text/plain": [
       "<Figure size 432x288 with 1 Axes>"
      ]
     },
     "metadata": {
      "needs_background": "light"
     },
     "output_type": "display_data"
    }
   ],
   "source": [
    "a=1\n",
    "b=3\n",
    "n=10000\n",
    "xu_r = np.random.uniform(a,b,n)\n",
    "plt.hist(xu_r, rwidth=0.6, density=True)\n",
    "\n",
    "from scipy.stats import uniform\n",
    "x = np.linspace(a-1, b+1, 100)\n",
    "uni_pdf = uniform.pdf(x, loc=a, scale=b-a)\n",
    "plt.plot(x, uni_pdf)"
   ]
  }
 ],
 "metadata": {
  "kernelspec": {
   "display_name": "Python 3.10.4 64-bit",
   "language": "python",
   "name": "python3"
  },
  "language_info": {
   "codemirror_mode": {
    "name": "ipython",
    "version": 3
   },
   "file_extension": ".py",
   "mimetype": "text/x-python",
   "name": "python",
   "nbconvert_exporter": "python",
   "pygments_lexer": "ipython3",
   "version": "3.10.4"
  },
  "orig_nbformat": 4,
  "vscode": {
   "interpreter": {
    "hash": "916dbcbb3f70747c44a77c7bcd40155683ae19c65e1c03b4aa3499c5328201f1"
   }
  }
 },
 "nbformat": 4,
 "nbformat_minor": 2
}
