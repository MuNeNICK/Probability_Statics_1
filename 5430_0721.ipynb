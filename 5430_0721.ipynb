{
  "nbformat": 4,
  "nbformat_minor": 0,
  "metadata": {
    "colab": {
      "name": "5499_0721.ipynb",
      "provenance": [],
      "include_colab_link": true
    },
    "kernelspec": {
      "name": "python3",
      "display_name": "Python 3"
    },
    "language_info": {
      "name": "python"
    }
  },
  "cells": [
    {
      "cell_type": "markdown",
      "metadata": {
        "id": "view-in-github",
        "colab_type": "text"
      },
      "source": [
        "<a href=\"https://colab.research.google.com/github/MuNeNICK/Probability_Statics_1/blob/main/5430_0721.ipynb\" target=\"_parent\"><img src=\"https://colab.research.google.com/assets/colab-badge.svg\" alt=\"Open In Colab\"/></a>"
      ]
    },
    {
      "cell_type": "code",
      "execution_count": null,
      "metadata": {
        "id": "ET0F64Zp-HTP"
      },
      "outputs": [],
      "source": [
        "import matplotlib.pyplot as plt\n",
        "import numpy as np\n",
        "#ランダムシード固定\n",
        "np.random.seed(0)"
      ]
    },
    {
      "cell_type": "markdown",
      "source": [
        "## 一様分布（離散）"
      ],
      "metadata": {
        "id": "erXJ9UoCy3YJ"
      }
    },
    {
      "cell_type": "code",
      "source": [
        "#サイコロの値をリストに格納\n",
        "dice_data = np.array([1,2,3,4,5,6])\n",
        "#サイコロを振る回数\n",
        "steps = 1000\n",
        "#1-6の中から1000回ランダムに抽出\n",
        "dice_result = np.random.choice(dice_data, steps)\n",
        "plt.hist(dice_result, bins=6, rwidth=0.6, range=(dice_data.min()-.5, dice_data.max()+.5))\n",
        "plt.show()\n"
      ],
      "metadata": {
        "id": "OuPh7wmby50Y"
      },
      "execution_count": null,
      "outputs": []
    },
    {
      "cell_type": "code",
      "source": [
        "#とり得る値の出現割合\n",
        "pr_data = np.array([])\n",
        "for i in range(1, 7):\n",
        "  p = len(dice_result[dice_result==i]) / steps\n",
        "  pr_data = np.append(pr_data, p)\n",
        "\n",
        "plt.bar(dice_data, pr_data)\n",
        "plt.grid(True)"
      ],
      "metadata": {
        "id": "YAEsNCo4-g5p"
      },
      "execution_count": null,
      "outputs": []
    },
    {
      "cell_type": "markdown",
      "source": [
        "## 一様分布（連続型）"
      ],
      "metadata": {
        "id": "-s84ZYqIlEjU"
      }
    },
    {
      "cell_type": "code",
      "source": [
        "#np.random.uniform(low, high, size)：low以上high未満の範囲の連続一様分布から浮動小数点数の乱数を生成\n",
        "a=1\n",
        "b=3\n",
        "n=1000\n",
        "xu_r = np.random.uniform(a,b,n)\n",
        "print(xu_r)\n"
      ],
      "metadata": {
        "id": "UG3Qg6w5yQUD"
      },
      "execution_count": null,
      "outputs": []
    },
    {
      "cell_type": "code",
      "source": [
        "plt.hist(xu_r, rwidth=0.6)"
      ],
      "metadata": {
        "colab": {
          "base_uri": "https://localhost:8080/",
          "height": 357
        },
        "id": "L7y5h4c47njg",
        "outputId": "bdff4425-aed5-4744-8a80-39980869a2b2"
      },
      "execution_count": null,
      "outputs": [
        {
          "output_type": "execute_result",
          "data": {
            "text/plain": [
              "(array([ 96., 110.,  87., 108.,  97.,  88.,  81., 111., 104., 118.]),\n",
              " array([1.00073469, 1.20062293, 1.40051118, 1.60039943, 1.80028767,\n",
              "        2.00017592, 2.20006417, 2.39995242, 2.59984066, 2.79972891,\n",
              "        2.99961716]),\n",
              " <a list of 10 Patch objects>)"
            ]
          },
          "metadata": {},
          "execution_count": 6
        },
        {
          "output_type": "display_data",
          "data": {
            "text/plain": [
              "<Figure size 432x288 with 1 Axes>"
            ],
            "image/png": "[encoded data removed]"
          },
          "metadata": {
            "needs_background": "light"
          }
        }
      ]
    },
    {
      "cell_type": "code",
      "source": [
        "w = np.ones_like(xu_r) / len(xu_r)\n",
        "#print(w)\n",
        "plt.hist(xu_r,rwidth=0.6,weights=w)"
      ],
      "metadata": {
        "id": "On3X22R532vK"
      },
      "execution_count": null,
      "outputs": []
    },
    {
      "cell_type": "code",
      "source": [
        "# 一様分布の確率密度関数\n",
        "from scipy.stats import uniform\n",
        "x =np.linspace(a-1,b+1,100)\n",
        "uni_pdf = uniform.pdf(x, loc=a, scale=b-a)\n",
        "#生成された乱数のヒストグラム(縦軸を相対度数密度)\n",
        "plt.hist(xu_r,rwidth=0.6, density =True)\n",
        "plt.plot(x, uni_pdf)"
      ],
      "metadata": {
        "colab": {
          "base_uri": "https://localhost:8080/",
          "height": 283
        },
        "id": "CMJ-G_Rd4H1w",
        "outputId": "211775c7-f18c-4340-b50a-c54115d2e28b"
      },
      "execution_count": null,
      "outputs": [
        {
          "output_type": "execute_result",
          "data": {
            "text/plain": [
              "[<matplotlib.lines.Line2D at 0x7f70880e00d0>]"
            ]
          },
          "metadata": {},
          "execution_count": 8
        },
        {
          "output_type": "display_data",
          "data": {
            "text/plain": [
              "<Figure size 432x288 with 1 Axes>"
            ],
            "image/png": "[encoded data removed]"
          },
          "metadata": {
            "needs_background": "light"
          }
        }
      ]
    },
    {
      "cell_type": "markdown",
      "source": [
        "## ベルヌーイ分布\n",
        "*   事象の結果が２種類の「ベルヌーイ試行」において，それぞれの事象が生じる確率の分布\n",
        "*   例）コイン投げ"
      ],
      "metadata": {
        "id": "8choFqE606iU"
      }
    },
    {
      "cell_type": "code",
      "source": [
        ""
      ],
      "metadata": {
        "id": "SStit7yURapP"
      },
      "execution_count": null,
      "outputs": []
    },
    {
      "cell_type": "markdown",
      "source": [
        "## 二項分布\n",
        "ベルヌーイ試行をn回繰り返し，Xが従う確率分布</br>\n",
        "\n",
        "\n"
      ],
      "metadata": {
        "id": "wHGzKv5Y1DlL"
      }
    },
    {
      "cell_type": "code",
      "source": [
        ""
      ],
      "metadata": {
        "id": "7ZqXru6ORbH9"
      },
      "execution_count": null,
      "outputs": []
    },
    {
      "cell_type": "markdown",
      "source": [
        "## ポアソン分布\n",
        "\n",
        "*   平均λ回発生する事象がちょうどk回発生する確率\n",
        "*   例）単位面積あたりの雨粒の数，１平米あたりに生えている木の数\n",
        "\n"
      ],
      "metadata": {
        "id": "BYKtj0j01GFN"
      }
    },
    {
      "cell_type": "code",
      "source": [
        ""
      ],
      "metadata": {
        "id": "Tc1tHznERbo6"
      },
      "execution_count": null,
      "outputs": []
    }
  ]
}