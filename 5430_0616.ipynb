{
  "nbformat": 4,
  "nbformat_minor": 0,
  "metadata": {
    "colab": {
      "name": "5430_0616.ipynb",
      "provenance": [],
      "authorship_tag": "ABX9TyPbz3ZX7wc6AgESvFlg06zr",
      "include_colab_link": true
    },
    "kernelspec": {
      "name": "python3",
      "display_name": "Python 3"
    },
    "language_info": {
      "name": "python"
    }
  },
  "cells": [
    {
      "cell_type": "markdown",
      "metadata": {
        "id": "view-in-github",
        "colab_type": "text"
      },
      "source": [
        "<a href=\"https://colab.research.google.com/github/MuNeNICK/Probability_Statics_1/blob/main/5430_0616.ipynb\" target=\"_parent\"><img src=\"https://colab.research.google.com/assets/colab-badge.svg\" alt=\"Open In Colab\"/></a>"
      ]
    },
    {
      "cell_type": "code",
      "execution_count": 1,
      "metadata": {
        "id": "piPQ8hj1IwdI"
      },
      "outputs": [],
      "source": [
        "import numpy as np"
      ]
    },
    {
      "cell_type": "code",
      "source": [
        "np.random.seed(0)"
      ],
      "metadata": {
        "id": "0mamwGOQJU0L"
      },
      "execution_count": 2,
      "outputs": []
    },
    {
      "cell_type": "code",
      "source": [
        "dice_data = np.array([1,2,3,4,5,6])"
      ],
      "metadata": {
        "id": "0cheC15jJXih"
      },
      "execution_count": 3,
      "outputs": []
    },
    {
      "cell_type": "code",
      "source": [
        "steps = 1000"
      ],
      "metadata": {
        "id": "NbxuzqScJbap"
      },
      "execution_count": 4,
      "outputs": []
    },
    {
      "cell_type": "code",
      "source": [
        "dice_result = np.random.choice(dice_data, steps)"
      ],
      "metadata": {
        "id": "NyavOQVdJcp3"
      },
      "execution_count": 5,
      "outputs": []
    },
    {
      "cell_type": "code",
      "source": [
        "dice_result"
      ],
      "metadata": {
        "colab": {
          "base_uri": "https://localhost:8080/"
        },
        "id": "NS57U68JJrgU",
        "outputId": "b41b0b17-c49f-4f53-ba49-b66429defeef"
      },
      "execution_count": 6,
      "outputs": [
        {
          "output_type": "execute_result",
          "data": {
            "text/plain": [
              "array([5, 6, 1, 4, 4, 4, 2, 4, 6, 3, 5, 1, 1, 5, 3, 2, 1, 2, 6, 2, 6, 1,\n",
              "       2, 5, 4, 1, 4, 6, 1, 3, 4, 1, 2, 4, 6, 4, 4, 1, 2, 2, 2, 1, 3, 5,\n",
              "       4, 4, 3, 5, 3, 1, 1, 5, 6, 6, 1, 5, 2, 5, 2, 3, 3, 1, 2, 2, 2, 2,\n",
              "       4, 4, 3, 4, 1, 4, 6, 5, 2, 3, 5, 4, 5, 5, 5, 4, 5, 5, 5, 1, 5, 4,\n",
              "       3, 6, 6, 6, 1, 2, 6, 2, 4, 1, 6, 1, 2, 3, 5, 3, 1, 6, 4, 3, 3, 6,\n",
              "       1, 6, 2, 1, 3, 3, 4, 3, 4, 3, 2, 3, 4, 4, 4, 3, 4, 5, 2, 3, 4, 2,\n",
              "       3, 2, 5, 3, 4, 1, 4, 3, 4, 1, 1, 1, 4, 3, 4, 1, 5, 1, 6, 1, 6, 3,\n",
              "       4, 3, 4, 6, 1, 1, 1, 4, 1, 3, 3, 1, 5, 4, 5, 6, 1, 5, 4, 6, 4, 5,\n",
              "       6, 2, 6, 4, 1, 1, 1, 6, 6, 2, 1, 5, 2, 6, 6, 4, 2, 1, 1, 5, 4, 4,\n",
              "       2, 6, 6, 1, 1, 2, 3, 1, 4, 6, 2, 2, 5, 1, 6, 1, 4, 3, 4, 3, 5, 4,\n",
              "       6, 6, 4, 1, 4, 1, 5, 3, 4, 6, 6, 5, 1, 3, 4, 4, 2, 6, 4, 5, 6, 6,\n",
              "       4, 4, 2, 2, 2, 4, 3, 3, 5, 4, 2, 3, 4, 6, 6, 6, 2, 5, 3, 3, 1, 2,\n",
              "       6, 1, 5, 1, 4, 3, 6, 6, 1, 1, 6, 2, 2, 1, 4, 1, 4, 1, 5, 5, 1, 2,\n",
              "       4, 5, 4, 3, 6, 2, 2, 3, 2, 6, 5, 6, 3, 6, 6, 5, 5, 6, 6, 3, 4, 6,\n",
              "       4, 2, 3, 5, 4, 4, 2, 2, 6, 6, 2, 2, 3, 1, 4, 2, 5, 4, 2, 2, 3, 1,\n",
              "       1, 3, 5, 1, 5, 4, 4, 1, 1, 4, 6, 4, 1, 4, 1, 6, 3, 2, 1, 5, 1, 4,\n",
              "       5, 5, 2, 1, 3, 5, 5, 3, 5, 4, 3, 4, 1, 6, 6, 6, 1, 1, 6, 4, 5, 5,\n",
              "       6, 3, 3, 5, 2, 4, 4, 4, 2, 3, 6, 3, 4, 6, 3, 4, 5, 5, 3, 6, 2, 3,\n",
              "       6, 1, 4, 1, 3, 5, 4, 3, 2, 3, 2, 5, 6, 2, 1, 6, 1, 1, 1, 1, 2, 1,\n",
              "       4, 2, 5, 2, 3, 5, 1, 1, 3, 6, 1, 5, 5, 5, 2, 2, 5, 2, 6, 2, 4, 6,\n",
              "       2, 4, 6, 4, 2, 2, 2, 1, 4, 1, 5, 2, 5, 6, 1, 4, 3, 2, 5, 5, 5, 1,\n",
              "       1, 3, 6, 1, 4, 4, 5, 2, 5, 4, 4, 4, 5, 3, 2, 3, 3, 2, 4, 4, 5, 5,\n",
              "       3, 2, 2, 1, 1, 3, 5, 4, 6, 4, 3, 2, 1, 5, 2, 5, 5, 3, 1, 1, 6, 4,\n",
              "       2, 6, 6, 2, 6, 1, 5, 4, 6, 4, 5, 4, 5, 4, 1, 6, 4, 4, 2, 4, 6, 6,\n",
              "       5, 1, 4, 1, 1, 4, 2, 3, 4, 3, 4, 1, 4, 3, 1, 4, 2, 5, 4, 2, 3, 6,\n",
              "       2, 5, 2, 6, 4, 2, 4, 3, 5, 6, 2, 5, 2, 5, 2, 3, 6, 6, 3, 4, 2, 3,\n",
              "       3, 5, 3, 3, 4, 1, 6, 5, 3, 1, 1, 3, 4, 6, 6, 6, 2, 6, 4, 3, 5, 2,\n",
              "       2, 3, 3, 5, 6, 4, 5, 6, 3, 5, 6, 3, 2, 5, 1, 2, 1, 3, 1, 4, 6, 3,\n",
              "       1, 3, 4, 1, 1, 2, 1, 6, 1, 3, 4, 5, 6, 4, 4, 1, 5, 5, 4, 3, 5, 5,\n",
              "       6, 4, 6, 6, 2, 5, 6, 6, 4, 2, 4, 6, 4, 3, 1, 2, 6, 6, 6, 1, 2, 6,\n",
              "       2, 6, 5, 3, 3, 4, 1, 6, 6, 4, 3, 4, 3, 3, 2, 4, 2, 4, 6, 3, 6, 3,\n",
              "       5, 2, 6, 1, 4, 6, 1, 5, 3, 2, 1, 2, 3, 2, 2, 6, 4, 1, 5, 2, 2, 6,\n",
              "       5, 1, 3, 4, 5, 2, 3, 4, 5, 2, 1, 5, 2, 3, 5, 4, 1, 5, 6, 5, 6, 1,\n",
              "       6, 3, 4, 2, 3, 2, 6, 4, 3, 5, 3, 2, 5, 1, 3, 3, 5, 3, 5, 1, 3, 2,\n",
              "       3, 5, 5, 2, 2, 5, 6, 5, 3, 5, 2, 3, 5, 1, 2, 6, 1, 3, 2, 3, 4, 2,\n",
              "       3, 1, 3, 5, 5, 1, 3, 2, 1, 3, 4, 5, 1, 3, 4, 5, 4, 6, 1, 3, 4, 4,\n",
              "       4, 2, 4, 3, 3, 3, 5, 4, 1, 5, 6, 2, 3, 2, 5, 2, 5, 6, 2, 3, 6, 4,\n",
              "       3, 6, 3, 3, 4, 3, 5, 6, 2, 4, 1, 6, 5, 6, 4, 2, 4, 5, 5, 6, 1, 3,\n",
              "       2, 6, 5, 5, 2, 6, 5, 1, 1, 3, 6, 6, 6, 4, 2, 1, 1, 1, 1, 3, 5, 6,\n",
              "       1, 6, 3, 4, 6, 5, 4, 5, 6, 5, 5, 3, 2, 4, 5, 5, 1, 6, 1, 3, 5, 4,\n",
              "       6, 4, 1, 1, 2, 5, 5, 6, 1, 1, 1, 2, 6, 2, 2, 5, 2, 5, 1, 5, 4, 6,\n",
              "       3, 1, 4, 3, 4, 3, 3, 2, 4, 6, 4, 1, 6, 5, 6, 6, 6, 4, 4, 1, 1, 2,\n",
              "       6, 5, 5, 2, 6, 6, 6, 1, 1, 1, 4, 5, 5, 3, 3, 4, 4, 5, 6, 3, 6, 2,\n",
              "       1, 5, 2, 4, 1, 4, 3, 6, 2, 6, 1, 1, 4, 6, 5, 2, 1, 1, 6, 3, 2, 2,\n",
              "       1, 6, 2, 2, 1, 1, 4, 6, 4, 6, 4, 4, 2, 3, 1, 1, 5, 3, 6, 3, 1, 3,\n",
              "       6, 5, 2, 6, 4, 5, 6, 6, 4, 1])"
            ]
          },
          "metadata": {},
          "execution_count": 6
        }
      ]
    },
    {
      "cell_type": "code",
      "source": [
        "dice_result[dice_result==1]"
      ],
      "metadata": {
        "colab": {
          "base_uri": "https://localhost:8080/"
        },
        "id": "wJnOHA1VJtcI",
        "outputId": "fc48facf-ae1b-44b0-cc00-2de896c750fd"
      },
      "execution_count": 7,
      "outputs": [
        {
          "output_type": "execute_result",
          "data": {
            "text/plain": [
              "array([1, 1, 1, 1, 1, 1, 1, 1, 1, 1, 1, 1, 1, 1, 1, 1, 1, 1, 1, 1, 1, 1,\n",
              "       1, 1, 1, 1, 1, 1, 1, 1, 1, 1, 1, 1, 1, 1, 1, 1, 1, 1, 1, 1, 1, 1,\n",
              "       1, 1, 1, 1, 1, 1, 1, 1, 1, 1, 1, 1, 1, 1, 1, 1, 1, 1, 1, 1, 1, 1,\n",
              "       1, 1, 1, 1, 1, 1, 1, 1, 1, 1, 1, 1, 1, 1, 1, 1, 1, 1, 1, 1, 1, 1,\n",
              "       1, 1, 1, 1, 1, 1, 1, 1, 1, 1, 1, 1, 1, 1, 1, 1, 1, 1, 1, 1, 1, 1,\n",
              "       1, 1, 1, 1, 1, 1, 1, 1, 1, 1, 1, 1, 1, 1, 1, 1, 1, 1, 1, 1, 1, 1,\n",
              "       1, 1, 1, 1, 1, 1, 1, 1, 1, 1, 1, 1, 1, 1, 1, 1, 1, 1, 1, 1, 1, 1,\n",
              "       1, 1, 1, 1, 1, 1, 1, 1, 1, 1, 1, 1, 1, 1, 1, 1, 1])"
            ]
          },
          "metadata": {},
          "execution_count": 7
        }
      ]
    },
    {
      "cell_type": "code",
      "source": [
        "len(dice_result[dice_result==1])"
      ],
      "metadata": {
        "colab": {
          "base_uri": "https://localhost:8080/"
        },
        "id": "aeM9WzEHJx0F",
        "outputId": "e1a04f0f-2abd-429a-af9e-e02c3659b0a2"
      },
      "execution_count": 8,
      "outputs": [
        {
          "output_type": "execute_result",
          "data": {
            "text/plain": [
              "171"
            ]
          },
          "metadata": {},
          "execution_count": 8
        }
      ]
    },
    {
      "cell_type": "code",
      "source": [
        "p1 = len(dice_result[dice_result==1]) / steps"
      ],
      "metadata": {
        "id": "hqPwpVG2J1-p"
      },
      "execution_count": 9,
      "outputs": []
    },
    {
      "cell_type": "code",
      "source": [
        "print('1が出る確率:', p1)"
      ],
      "metadata": {
        "colab": {
          "base_uri": "https://localhost:8080/"
        },
        "id": "jQE6ebkzKCEU",
        "outputId": "5968ab9a-c5f3-433e-c098-b739fb3ba676"
      },
      "execution_count": 10,
      "outputs": [
        {
          "output_type": "stream",
          "name": "stdout",
          "text": [
            "1が出る確率: 0.171\n"
          ]
        }
      ]
    },
    {
      "cell_type": "code",
      "source": [
        "p2 = len(dice_result[dice_result==2]) / steps\n",
        "print('2が出る確率:', p2)"
      ],
      "metadata": {
        "colab": {
          "base_uri": "https://localhost:8080/"
        },
        "id": "8-LzcqNFKGmJ",
        "outputId": "9af51f45-450a-4ee4-80dd-142ebba4e29b"
      },
      "execution_count": 11,
      "outputs": [
        {
          "output_type": "stream",
          "name": "stdout",
          "text": [
            "2が出る確率: 0.157\n"
          ]
        }
      ]
    },
    {
      "cell_type": "code",
      "source": [
        "p3 = len(dice_result[dice_result==3]) / steps\n",
        "print('3が出る確率:', p3)"
      ],
      "metadata": {
        "colab": {
          "base_uri": "https://localhost:8080/"
        },
        "id": "Zf_X5zVfKMx0",
        "outputId": "cb94233d-5ba0-488c-e1c6-df891ccf04a3"
      },
      "execution_count": 12,
      "outputs": [
        {
          "output_type": "stream",
          "name": "stdout",
          "text": [
            "3が出る確率: 0.157\n"
          ]
        }
      ]
    },
    {
      "cell_type": "code",
      "source": [
        "p4 = len(dice_result[dice_result==4]) / steps\n",
        "print('4が出る確率:', p4)"
      ],
      "metadata": {
        "colab": {
          "base_uri": "https://localhost:8080/"
        },
        "id": "UlWc2UEgKSti",
        "outputId": "5d527dc6-79b8-4127-b7b5-fdb1e78bcd88"
      },
      "execution_count": 13,
      "outputs": [
        {
          "output_type": "stream",
          "name": "stdout",
          "text": [
            "4が出る確率: 0.183\n"
          ]
        }
      ]
    },
    {
      "cell_type": "code",
      "source": [
        "p5 = len(dice_result[dice_result==5]) / steps\n",
        "print('5が出る確率:', p5)"
      ],
      "metadata": {
        "colab": {
          "base_uri": "https://localhost:8080/"
        },
        "id": "YI0Im2v3KWTV",
        "outputId": "c43bb3bc-6754-43ae-ec13-2a57ce5c3b8a"
      },
      "execution_count": 14,
      "outputs": [
        {
          "output_type": "stream",
          "name": "stdout",
          "text": [
            "5が出る確率: 0.161\n"
          ]
        }
      ]
    },
    {
      "cell_type": "code",
      "source": [
        "p6 = len(dice_result[dice_result==6]) / steps\n",
        "print('6が出る確率:', p6)"
      ],
      "metadata": {
        "colab": {
          "base_uri": "https://localhost:8080/"
        },
        "id": "7VaeAiBbKZco",
        "outputId": "d0613c65-9795-4ae5-e0c7-bb798592459e"
      },
      "execution_count": 15,
      "outputs": [
        {
          "output_type": "stream",
          "name": "stdout",
          "text": [
            "6が出る確率: 0.171\n"
          ]
        }
      ]
    },
    {
      "cell_type": "code",
      "source": [
        "for i in range(1,7):\n",
        "  p = len(dice_result[dice_result==i]) / steps\n",
        "  print(i,'が出る確率:', p)"
      ],
      "metadata": {
        "colab": {
          "base_uri": "https://localhost:8080/"
        },
        "id": "xmGO5L2nKb2z",
        "outputId": "9555d674-f753-4c65-ea46-8300e655b608"
      },
      "execution_count": 16,
      "outputs": [
        {
          "output_type": "stream",
          "name": "stdout",
          "text": [
            "1 が出る確率: 0.171\n",
            "2 が出る確率: 0.157\n",
            "3 が出る確率: 0.157\n",
            "4 が出る確率: 0.183\n",
            "5 が出る確率: 0.161\n",
            "6 が出る確率: 0.171\n"
          ]
        }
      ]
    },
    {
      "cell_type": "code",
      "source": [
        "coin_data = np.array([0,1])"
      ],
      "metadata": {
        "id": "2MDTJLikKwBm"
      },
      "execution_count": 21,
      "outputs": []
    },
    {
      "cell_type": "code",
      "source": [
        "coin_result = np.random.choice(coin_data, steps)"
      ],
      "metadata": {
        "id": "sdND3nP-K4Rs"
      },
      "execution_count": 22,
      "outputs": []
    },
    {
      "cell_type": "code",
      "source": [
        "coin_result"
      ],
      "metadata": {
        "colab": {
          "base_uri": "https://localhost:8080/"
        },
        "id": "rUzCGp-WLy0G",
        "outputId": "aaaede91-e724-44e1-a56a-41a625b3d544"
      },
      "execution_count": 24,
      "outputs": [
        {
          "output_type": "execute_result",
          "data": {
            "text/plain": [
              "array([1, 0, 1, 1, 1, 1, 1, 1, 0, 1, 1, 1, 0, 1, 1, 1, 1, 1, 0, 1, 1, 0,\n",
              "       0, 1, 1, 1, 0, 1, 0, 1, 0, 0, 0, 1, 1, 1, 1, 1, 0, 1, 1, 1, 0, 1,\n",
              "       1, 1, 0, 1, 1, 0, 1, 0, 1, 1, 0, 0, 1, 1, 1, 1, 1, 0, 1, 0, 1, 1,\n",
              "       1, 0, 1, 1, 0, 0, 1, 1, 1, 1, 0, 0, 1, 0, 0, 0, 0, 0, 1, 1, 0, 1,\n",
              "       0, 0, 0, 0, 0, 1, 1, 1, 1, 1, 1, 1, 0, 1, 1, 0, 1, 0, 1, 0, 1, 0,\n",
              "       1, 0, 1, 1, 0, 0, 1, 1, 1, 0, 0, 0, 0, 0, 0, 1, 0, 1, 0, 0, 0, 1,\n",
              "       0, 1, 1, 0, 0, 0, 1, 1, 0, 0, 0, 1, 1, 0, 0, 0, 1, 1, 1, 0, 1, 0,\n",
              "       1, 0, 1, 1, 0, 1, 0, 1, 0, 0, 1, 1, 1, 0, 0, 1, 0, 1, 0, 0, 1, 0,\n",
              "       0, 0, 1, 0, 0, 1, 0, 1, 1, 0, 1, 1, 1, 1, 1, 0, 0, 0, 1, 1, 0, 1,\n",
              "       1, 1, 0, 1, 1, 1, 1, 1, 1, 1, 1, 0, 1, 1, 0, 0, 0, 1, 1, 1, 0, 0,\n",
              "       0, 1, 0, 1, 1, 0, 1, 0, 1, 0, 1, 0, 1, 0, 0, 1, 1, 0, 1, 0, 0, 0,\n",
              "       1, 0, 0, 1, 1, 0, 1, 1, 0, 1, 0, 0, 0, 0, 0, 0, 0, 0, 1, 0, 1, 0,\n",
              "       1, 0, 0, 0, 1, 0, 1, 0, 1, 1, 0, 1, 0, 0, 0, 0, 0, 0, 0, 0, 1, 1,\n",
              "       0, 1, 1, 1, 0, 1, 1, 1, 0, 0, 1, 0, 0, 1, 0, 0, 0, 1, 1, 0, 1, 1,\n",
              "       0, 0, 1, 0, 1, 1, 1, 0, 0, 0, 1, 1, 1, 1, 0, 0, 1, 1, 0, 0, 1, 1,\n",
              "       1, 1, 1, 0, 1, 1, 1, 1, 1, 0, 1, 1, 0, 0, 1, 0, 0, 1, 1, 0, 1, 1,\n",
              "       0, 1, 0, 1, 0, 0, 0, 1, 0, 1, 1, 1, 1, 0, 1, 0, 1, 0, 1, 1, 1, 1,\n",
              "       1, 1, 1, 1, 0, 1, 1, 1, 0, 0, 0, 0, 1, 1, 1, 0, 1, 1, 0, 1, 0, 1,\n",
              "       1, 0, 0, 1, 0, 1, 1, 0, 1, 0, 1, 0, 0, 1, 0, 0, 0, 1, 1, 0, 0, 0,\n",
              "       0, 0, 1, 1, 0, 1, 0, 0, 0, 1, 1, 1, 0, 0, 0, 1, 1, 1, 1, 0, 1, 0,\n",
              "       0, 1, 1, 1, 1, 1, 0, 0, 1, 1, 0, 1, 0, 0, 0, 0, 1, 0, 1, 1, 1, 1,\n",
              "       1, 1, 0, 0, 0, 1, 0, 1, 0, 0, 1, 0, 1, 1, 1, 0, 1, 1, 0, 0, 0, 1,\n",
              "       0, 1, 0, 0, 1, 1, 1, 0, 1, 0, 0, 1, 1, 1, 1, 0, 0, 1, 1, 0, 0, 0,\n",
              "       1, 1, 0, 1, 0, 1, 0, 1, 1, 0, 0, 0, 0, 1, 0, 1, 0, 0, 0, 1, 1, 1,\n",
              "       0, 0, 1, 1, 1, 0, 0, 1, 0, 1, 1, 1, 0, 0, 1, 1, 0, 1, 1, 1, 1, 0,\n",
              "       1, 1, 0, 1, 0, 1, 0, 1, 0, 1, 1, 0, 0, 0, 1, 1, 0, 0, 1, 0, 0, 0,\n",
              "       0, 0, 0, 0, 0, 1, 0, 0, 1, 1, 1, 1, 0, 0, 1, 1, 1, 0, 1, 1, 0, 0,\n",
              "       1, 0, 1, 1, 0, 1, 1, 1, 0, 0, 0, 1, 0, 1, 1, 1, 1, 0, 1, 1, 1, 1,\n",
              "       0, 1, 1, 1, 1, 1, 0, 0, 0, 1, 0, 1, 1, 1, 0, 1, 1, 0, 1, 1, 1, 1,\n",
              "       0, 0, 1, 1, 0, 0, 1, 0, 0, 1, 0, 0, 0, 0, 0, 0, 1, 1, 1, 0, 0, 1,\n",
              "       0, 1, 0, 1, 1, 1, 1, 1, 1, 0, 0, 0, 1, 0, 1, 0, 1, 1, 0, 1, 1, 1,\n",
              "       0, 1, 0, 1, 1, 1, 1, 1, 1, 0, 0, 1, 1, 1, 1, 0, 0, 0, 1, 0, 0, 1,\n",
              "       0, 0, 0, 1, 0, 1, 1, 0, 0, 0, 0, 0, 0, 1, 1, 1, 0, 0, 0, 1, 1, 0,\n",
              "       1, 1, 1, 0, 1, 0, 1, 1, 1, 0, 0, 0, 0, 0, 0, 1, 0, 1, 0, 0, 0, 0,\n",
              "       0, 1, 0, 1, 0, 0, 1, 1, 0, 1, 0, 1, 1, 1, 1, 0, 1, 1, 1, 1, 1, 1,\n",
              "       1, 0, 0, 0, 1, 0, 1, 1, 0, 1, 1, 0, 1, 0, 1, 1, 0, 1, 0, 1, 0, 0,\n",
              "       1, 0, 1, 1, 1, 0, 0, 1, 1, 1, 1, 1, 0, 1, 1, 0, 1, 1, 0, 1, 1, 1,\n",
              "       0, 0, 1, 1, 0, 0, 1, 0, 0, 1, 0, 0, 1, 1, 1, 0, 0, 1, 1, 0, 1, 1,\n",
              "       1, 1, 1, 0, 0, 1, 1, 0, 0, 0, 0, 1, 1, 1, 1, 1, 1, 0, 1, 1, 1, 1,\n",
              "       0, 0, 0, 0, 1, 1, 0, 0, 0, 0, 1, 1, 0, 1, 0, 0, 0, 1, 0, 1, 1, 1,\n",
              "       1, 0, 1, 1, 0, 0, 0, 1, 1, 0, 1, 1, 0, 1, 0, 0, 0, 1, 1, 1, 1, 0,\n",
              "       0, 1, 0, 0, 1, 1, 0, 1, 0, 1, 0, 0, 1, 0, 0, 1, 1, 1, 1, 0, 0, 0,\n",
              "       0, 0, 1, 0, 0, 1, 0, 1, 1, 1, 0, 1, 1, 1, 0, 0, 1, 1, 0, 0, 0, 0,\n",
              "       0, 1, 1, 0, 1, 0, 0, 1, 0, 0, 1, 0, 1, 0, 1, 1, 1, 0, 1, 1, 1, 0,\n",
              "       0, 1, 1, 0, 0, 0, 0, 1, 0, 0, 0, 0, 0, 1, 0, 1, 1, 0, 1, 0, 1, 0,\n",
              "       0, 0, 0, 0, 1, 1, 1, 1, 0, 0])"
            ]
          },
          "metadata": {},
          "execution_count": 24
        }
      ]
    },
    {
      "cell_type": "code",
      "source": [
        "p0 = len(coin_result[coin_result==0]) / steps\n",
        "print('表が出る確率:', p0)\n",
        "p1 = len(coin_result[coin_result==1]) / steps\n",
        "print('表が出る確率:', p1)"
      ],
      "metadata": {
        "colab": {
          "base_uri": "https://localhost:8080/"
        },
        "id": "1ef0NDHlLF56",
        "outputId": "5c4c0cc2-24be-43b2-c287-38ff14771206"
      },
      "execution_count": 27,
      "outputs": [
        {
          "output_type": "stream",
          "name": "stdout",
          "text": [
            "表が出る確率: 0.468\n",
            "表が出る確率: 0.532\n"
          ]
        }
      ]
    },
    {
      "cell_type": "code",
      "source": [
        "for i in range(0,2):\n",
        "  p = len(coin_result[coin_result==i]) / steps\n",
        "  if(i==0):\n",
        "    print('表が出る確率:', p)\n",
        "  if(i==1):\n",
        "    print('裏が出る確率:', p)"
      ],
      "metadata": {
        "colab": {
          "base_uri": "https://localhost:8080/"
        },
        "id": "N7_-kLMcMMtR",
        "outputId": "e43e3895-fc1c-4149-ebdf-d6d365cc517d"
      },
      "execution_count": 30,
      "outputs": [
        {
          "output_type": "stream",
          "name": "stdout",
          "text": [
            "表が出る確率: 0.468\n",
            "裏が出る確率: 0.532\n"
          ]
        }
      ]
    }
  ]
}